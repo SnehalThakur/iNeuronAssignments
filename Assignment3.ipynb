{
 "cells": [
  {
   "cell_type": "code",
   "execution_count": 1,
   "metadata": {},
   "outputs": [
    {
     "name": "stdout",
     "output_type": "stream",
     "text": [
      "Result of build-in reduce() for list of number [10, 20, 30, 40, 50]  =  150\n",
      "Result of custom myreduce() for list of number [10, 20, 30, 40, 50]  =  150\n"
     ]
    }
   ],
   "source": [
    "'''\n",
    "Write a Python Program to implement your own myreduce() function which works exactly\n",
    "like Python's built-in function reduce()\n",
    "'''\n",
    "import functools\n",
    "list1 = [10,20,30,40,50]\n",
    "\n",
    "# Using build-in reduce()\n",
    "print(\"Result of build-in reduce() for list of number\",list1,\" = \",functools.reduce(lambda x,y: x+y, list1))\n",
    "\n",
    "# Using custom reduce function myreduce()\n",
    "def add(num1, num2):\n",
    "    return num1+num2\n",
    "\n",
    "def myReduce(func, nums):\n",
    "    first = nums[0]\n",
    "    for i in range(1,len(nums)):\n",
    "        first=func(first,nums[i])\n",
    "    return first\n",
    "\n",
    "print(\"Result of custom myreduce() for list of number\",list1,\" = \",myReduce(add, list1))\n"
   ]
  },
  {
   "cell_type": "code",
   "execution_count": 2,
   "metadata": {},
   "outputs": [
    {
     "name": "stdout",
     "output_type": "stream",
     "text": [
      "Result of built-in filter() for number > 300 list [100, 200, 300, 400, 500, 600] = [400, 500, 600]\n",
      "Result of custom myfilter() for number > 300 list [100, 200, 300, 400, 500, 600] = [400, 500, 600]\n"
     ]
    }
   ],
   "source": [
    "'''\n",
    "Write a Python program to implement your own myfilter() function which works exactly\n",
    "like Python's built-in function filter()\n",
    "'''\n",
    "list1 = [100, 200, 300, 400, 500, 600]\n",
    "\n",
    "#Using build-in filter()\n",
    "print(\"Result of built-in filter() for number > 300 list\", list1, \"=\", list(filter(lambda x : x > 300, list1)))\n",
    "\n",
    "\n",
    "\n",
    "def findGreaterNum(num):\n",
    "    if num > 300:\n",
    "        return num\n",
    "    else:\n",
    "        pass\n",
    "\n",
    "def myFilter(func, nums):\n",
    "    filteredList = []\n",
    "    for i in range(1, len(nums)):\n",
    "        if func(nums[i]):\n",
    "            filteredList.append(func(nums[i]))\n",
    "    return filteredList\n",
    "\n",
    "print(\"Result of custom myfilter() for number > 300 list\", list1, \"=\", myFilter(findGreaterNum,list1))"
   ]
  },
  {
   "cell_type": "code",
   "execution_count": 3,
   "metadata": {},
   "outputs": [
    {
     "name": "stdout",
     "output_type": "stream",
     "text": [
      "['x', 'xx', 'xxx', 'xxxx', 'y', 'yy', 'yyy', 'yyyy', 'z', 'zz', 'zzz', 'zzzz']\n",
      "---------------------------------------------------------------------------\n",
      "['x', 'y', 'z', 'xx', 'yy', 'zz', 'xxx', 'yyy', 'zzz', 'xxxx', 'yyyy', 'zzzz']\n",
      "---------------------------------------------------------------------------\n",
      "[[2], [3], [4], [3], [4], [5], [4], [5], [6]] [[2, 3, 4, 5], [3, 4, 5, 6], [4, 5, 6, 7], [5, 6, 7, 8]]\n",
      "---------------------------------------------------------------------------\n",
      "[(1, 1), (2, 1), (3, 1), (1, 2), (2, 2), (3, 2), (1, 3), (2, 3), (3, 3)]\n",
      "---------------------------------------------------------------------------\n"
     ]
    }
   ],
   "source": [
    "# ['x', 'xx', 'xxx', 'xxxx', 'y', 'yy', 'yyy', 'yyyy', 'z', 'zz', 'zzz', 'zzzz']\n",
    "print([i*ele for i in ['x','y','z'] for ele in range(1,5)])\n",
    "print('---------------------------------------------------------------------------')\n",
    "\n",
    "# ['x', 'y', 'z', 'xx', 'yy', 'zz', 'xxx', 'yyy', 'zzz', 'xxxx', 'yyyy', 'zzzz']\n",
    "print([i*ele for ele in range(1,5) for i in ['x','y','z']])\n",
    "print('---------------------------------------------------------------------------')\n",
    "\n",
    "# [[2], [3], [4], [3], [4], [5], [4], [5], [6]] [[2, 3, 4, 5], [3, 4, 5, 6], [4, 5, 6, 7], [5, 6, 7, 8]]\n",
    "print([[ele] for nums in [[2,3,4],[3,4,5],[4,5,6]] for ele in nums],[lst for lst in [[2, 3, 4, 5], [3, 4, 5, 6], [4, 5, 6, 7], [5, 6, 7, 8]]])\n",
    "print('---------------------------------------------------------------------------')\n",
    "\n",
    "# [(1, 1), (2, 1), (3, 1), (1, 2), (2, 2), (3, 2), (1, 3), (2, 3), (3, 3)]\n",
    "print([(j,i) for i in range(1,4) for j in range(1,4)])\n",
    "print('---------------------------------------------------------------------------')"
   ]
  }
 ],
 "metadata": {
  "kernelspec": {
   "display_name": "Python 3",
   "language": "python",
   "name": "python3"
  },
  "language_info": {
   "codemirror_mode": {
    "name": "ipython",
    "version": 3
   },
   "file_extension": ".py",
   "mimetype": "text/x-python",
   "name": "python",
   "nbconvert_exporter": "python",
   "pygments_lexer": "ipython3",
   "version": "3.6.9"
  }
 },
 "nbformat": 4,
 "nbformat_minor": 4
}
