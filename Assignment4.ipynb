{
 "cells": [
  {
   "cell_type": "code",
   "execution_count": null,
   "metadata": {},
   "outputs": [],
   "source": [
    "'''\n",
    "Write a Python Program(with class concepts) to find the area of the triangle using the below formula.\n",
    "area = (s*(s-a)*(s-b)*(s-c)) ** 0.5\n",
    "Function to take the length of the sides of triangle from user should be defined in the parent\n",
    "class and function to calculate the area should be defined in subclass.\n",
    "\n",
    "Classic Heron's Formula\n",
    "s = (a+b+c)/2 = 6\n",
    "Area = √( s(s-a)(s-b)(s-c) )\n",
    "'''\n",
    "class Parent:\n",
    "    def __init__(self):\n",
    "        print(\"Area of Triangle with 3 sides\")\n",
    "        self.aSide = int(input(\"Enter first side length of the triangle- \"))\n",
    "        self.bSide = int(input(\"Enter 2nd side of the triangle- \"))\n",
    "        self.cSide = int(input(\"Enter 3rd side of the triangle- \"))\n",
    "\n",
    "class Child(Parent):\n",
    "    def __init__(self):\n",
    "        Parent.__init__(self)\n",
    "\n",
    "    def areaOfTriangle(self):\n",
    "        s = (self.aSide + self.bSide + self.cSide)/2\n",
    "\n",
    "        # semi-perimeter of the triangle\n",
    "        print(\"Semi-perimeter of the triangle=\",s)\n",
    "\n",
    "        area = (s * (s - self.aSide) * (s - self.bSide) * (s - self.cSide)) ** 0.5\n",
    "        print(\"Area of Triangle=\",area,\"sq unit\")\n",
    "\n",
    "c = Child()\n",
    "c.areaOfTriangle()"
   ]
  },
  {
   "cell_type": "code",
   "execution_count": 1,
   "metadata": {},
   "outputs": [
    {
     "name": "stdout",
     "output_type": "stream",
     "text": [
      "['Python', 'Machine', 'Learning', 'science']\n"
     ]
    }
   ],
   "source": [
    "# Write a function filter_long_words() that takes a list of words and an integer n and returns\n",
    "# the list of words that are longer than n.\n",
    "\n",
    "\n",
    "def filter_long_words(listOfWords, length):\n",
    "    filteredList = []\n",
    "    for i in listOfWords:\n",
    "        if len(i)>length:\n",
    "            filteredList.append(i)\n",
    "\n",
    "    return filteredList\n",
    "\n",
    "\n",
    "lst = ['Python','Machine','Learning','data','science','Deep']\n",
    "filteredWrds = filter_long_words(lst,4)\n",
    "print(filteredWrds)"
   ]
  },
  {
   "cell_type": "code",
   "execution_count": 2,
   "metadata": {},
   "outputs": [
    {
     "name": "stdout",
     "output_type": "stream",
     "text": [
      "Length of word 'a' = 1\n",
      "Length of word 'Python' = 6\n",
      "Length of word 'Machine' = 7\n",
      "Length of word 'Learning' = 8\n",
      "Length of word 'data' = 4\n",
      "Length of word 'science' = 7\n",
      "Length of word 'Deep' = 4\n",
      "wrdLengthList- [1, 6, 7, 8, 4, 7, 4]\n"
     ]
    }
   ],
   "source": [
    "'''\n",
    "Write a Python program using function concept that maps list of words into a list of integers\n",
    "representing the lengths of the corresponding words.\n",
    "Hint: If a list [ ab,cde,erty] is passed on to the python function output should come as [2,3,4]\n",
    "Here 2,3 and 4 are the lengths of the words in the list.\n",
    "'''\n",
    "\n",
    "def wordLengthCount(wrds):\n",
    "    wrdLengthList = []\n",
    "    for wrd in wrds:\n",
    "        print(\"Length of word '{0}' = {1}\".format(wrd,len(wrd)))\n",
    "        wrdLengthList.append(len(wrd))\n",
    "    return wrdLengthList\n",
    "\n",
    "\n",
    "lst = ['a','Python','Machine','Learning','data','science','Deep']\n",
    "print(\"wrdLengthList-\", wordLengthCount(lst))"
   ]
  },
  {
   "cell_type": "code",
   "execution_count": 3,
   "metadata": {},
   "outputs": [
    {
     "name": "stdout",
     "output_type": "stream",
     "text": [
      "Is 'a' vowel? =  True\n",
      "Is 'b' vowel? =  False\n",
      "Is 'c' vowel? =  False\n",
      "Is 'd' vowel? =  False\n",
      "Is 'e' vowel? =  True\n"
     ]
    }
   ],
   "source": [
    "'''\n",
    "Write a Python function which takes a character (i.e. a string of length 1) and returns True if\n",
    "it is a vowel, False otherwise.\n",
    "'''\n",
    "\n",
    "def vowelFilter(char):\n",
    "    if char in ['a','e','i','o','u']:\n",
    "        return True\n",
    "    else:\n",
    "        return False\n",
    "\n",
    "print(\"Is 'a' vowel? = \",vowelFilter('a'))\n",
    "print(\"Is 'b' vowel? = \",vowelFilter('b'))\n",
    "print(\"Is 'c' vowel? = \",vowelFilter('c'))\n",
    "print(\"Is 'd' vowel? = \",vowelFilter('d'))\n",
    "print(\"Is 'e' vowel? = \",vowelFilter('e'))\n"
   ]
  }
 ],
 "metadata": {
  "kernelspec": {
   "display_name": "Python 3",
   "language": "python",
   "name": "python3"
  },
  "language_info": {
   "codemirror_mode": {
    "name": "ipython",
    "version": 3
   },
   "file_extension": ".py",
   "mimetype": "text/x-python",
   "name": "python",
   "nbconvert_exporter": "python",
   "pygments_lexer": "ipython3",
   "version": "3.6.9"
  }
 },
 "nbformat": 4,
 "nbformat_minor": 4
}
